{
 "cells": [
  {
   "cell_type": "code",
   "execution_count": null,
   "metadata": {},
   "outputs": [],
   "source": [
    "# importing libraries------------"
   ]
  },
  {
   "cell_type": "code",
   "execution_count": 17,
   "metadata": {},
   "outputs": [],
   "source": [
    "from selenium import webdriver\n",
    "from selenium.webdriver.common.by import By\n",
    "from selenium.webdriver.support.ui import WebDriverWait\n",
    "from selenium.webdriver.support import expected_conditions as EC\n",
    "import pandas as pd"
   ]
  },
  {
   "cell_type": "code",
   "execution_count": 18,
   "metadata": {},
   "outputs": [],
   "source": [
    "import datetime"
   ]
  },
  {
   "cell_type": "code",
   "execution_count": null,
   "metadata": {},
   "outputs": [],
   "source": [
    "# create date coloumn ---------------------"
   ]
  },
  {
   "cell_type": "code",
   "execution_count": 3,
   "metadata": {},
   "outputs": [],
   "source": [
    "def list_dates(start,end):\n",
    "    \"\"\" This creates a list of of dates between the 'start' date and the 'end' date \"\"\"\n",
    "    # create datetime object for the start and end dates\n",
    "    start = datetime.datetime.strptime(start, '%Y-%m-%d')\n",
    "    end = datetime.datetime.strptime(end, '%Y-%m-%d')\n",
    "    # generates list of dates between start and end dates\n",
    "    step = datetime.timedelta(days=1)\n",
    "    dates = []\n",
    "    while start <= end:\n",
    "        dates.append(start.date())\n",
    "        start += step\n",
    "    # return the list of dates in string format\n",
    "    return [str(date) for date in dates]"
   ]
  },
  {
   "cell_type": "code",
   "execution_count": 28,
   "metadata": {},
   "outputs": [],
   "source": [
    "start = '2018-1-1'\n",
    "end = '2018-1-2'\n",
    "date = list_dates(start,end)"
   ]
  },
  {
   "cell_type": "code",
   "execution_count": null,
   "metadata": {},
   "outputs": [],
   "source": [
    "# extracting tables and storing in "
   ]
  },
  {
   "cell_type": "code",
   "execution_count": null,
   "metadata": {},
   "outputs": [],
   "source": [
    "\n",
    "for i in range(len(date)):\n",
    "    url = 'https://www.wunderground.com/history/daily/in/aluva/VOCI/date/'\n",
    "    driver = webdriver.Chrome()\n",
    "    driver.get(url + date[i])  ### storing page in driver\n",
    "    tables = WebDriverWait(driver,10).until(EC.presence_of_all_elements_located((By.XPATH, '//*[@id=\"history-observation-table\"]')))\n",
    "    for table in tables:  ###tables contain the table which is present in xpath\n",
    "        newTable = pd.read_html(table.get_attribute('outerHTML'))\n",
    "        frame.append(newTable)"
   ]
  },
  {
   "cell_type": "code",
   "execution_count": 32,
   "metadata": {},
   "outputs": [
    {
     "data": {
      "text/html": [
       "<div>\n",
       "<style scoped>\n",
       "    .dataframe tbody tr th:only-of-type {\n",
       "        vertical-align: middle;\n",
       "    }\n",
       "\n",
       "    .dataframe tbody tr th {\n",
       "        vertical-align: top;\n",
       "    }\n",
       "\n",
       "    .dataframe thead th {\n",
       "        text-align: right;\n",
       "    }\n",
       "</style>\n",
       "<table border=\"1\" class=\"dataframe\">\n",
       "  <thead>\n",
       "    <tr style=\"text-align: right;\">\n",
       "      <th></th>\n",
       "    </tr>\n",
       "  </thead>\n",
       "  <tbody>\n",
       "  </tbody>\n",
       "</table>\n",
       "</div>"
      ],
      "text/plain": [
       "Empty DataFrame\n",
       "Columns: []\n",
       "Index: []"
      ]
     },
     "execution_count": 32,
     "metadata": {},
     "output_type": "execute_result"
    }
   ],
   "source": [
    "frame"
   ]
  },
  {
   "cell_type": "code",
   "execution_count": 30,
   "metadata": {},
   "outputs": [],
   "source": [
    "dframe = pd.DataFrame(frame)"
   ]
  },
  {
   "cell_type": "code",
   "execution_count": 31,
   "metadata": {},
   "outputs": [
    {
     "name": "stdout",
     "output_type": "stream",
     "text": [
      "Empty DataFrame\n",
      "Columns: []\n",
      "Index: []\n"
     ]
    }
   ],
   "source": [
    "print(dframe)"
   ]
  },
  {
   "cell_type": "code",
   "execution_count": 10,
   "metadata": {},
   "outputs": [],
   "source": [
    "def tables():\n",
    "    #tables = WebDriverWait(driver,20).until(EC.presence_of_all_elements_located((By.CSS_SELECTOR, \"table\")))\n",
    "    tables = WebDriverWait(driver,20).until(EC.presence_of_all_elements_located((By.XPATH, '//*[@id=\"history-observation-table\"]')))\n",
    "    for table in tables:  ###tables contain the table which is present in xpath\n",
    "        newTable = pd.read_html(table.get_attribute('outerHTML'))\n",
    "        frame = pd.concat(newTable)\n",
    "        print(frame)\n",
    "        #print(newTable[0].fillna(''))"
   ]
  },
  {
   "cell_type": "code",
   "execution_count": 14,
   "metadata": {},
   "outputs": [],
   "source": [
    "#tables = WebDriverWait(driver,20).until(EC.presence_of_all_elements_located((By.CSS_SELECTOR, \"table\")))\n",
    "tables = WebDriverWait(driver,20).until(EC.presence_of_all_elements_located((By.XPATH, '//*[@id=\"history-observation-table\"]')))\n",
    "for table in tables:  ###tables contain the table which is present in xpath\n",
    "    newTable = pd.read_html(table.get_attribute('outerHTML'))\n",
    "    #if newTable:\n",
    "        #print(newTable[0].fillna(''))"
   ]
  },
  {
   "cell_type": "code",
   "execution_count": 12,
   "metadata": {},
   "outputs": [],
   "source": [
    "#print(newTable)"
   ]
  },
  {
   "cell_type": "code",
   "execution_count": 1,
   "metadata": {},
   "outputs": [],
   "source": [
    "################# METHOD 2 ###############################################################################"
   ]
  },
  {
   "cell_type": "code",
   "execution_count": 5,
   "metadata": {},
   "outputs": [],
   "source": [
    "from selenium import webdriver\n",
    "from selenium.webdriver.common.by import By\n",
    "from selenium.webdriver.support.ui import WebDriverWait\n",
    "from selenium.webdriver.support import expected_conditions as EC\n",
    "import pandas as pd\n",
    "import datetime"
   ]
  },
  {
   "cell_type": "code",
   "execution_count": 6,
   "metadata": {},
   "outputs": [],
   "source": [
    "start = '2018-1-1'\n",
    "end = '2018-1-2'\n",
    "date = list_dates(start,end)"
   ]
  },
  {
   "cell_type": "code",
   "execution_count": 7,
   "metadata": {},
   "outputs": [],
   "source": [
    "driver = webdriver.Chrome()"
   ]
  },
  {
   "cell_type": "code",
   "execution_count": 13,
   "metadata": {},
   "outputs": [],
   "source": [
    "frame = []"
   ]
  },
  {
   "cell_type": "raw",
   "metadata": {},
   "source": [
    "for time in date:\n",
    "    driver.get('https://www.wunderground.com/history/daily/in/aluva/VOCI/date/' +time)\n",
    "    tables = WebDriverWait(driver,10).until(EC.presence_of_all_elements_located((By.XPATH,'//*[@id=\"history-observation-table\"]')))\n",
    "    for table in tables:  ###tables contain the table which is present in xpath\n",
    "        newTable = pd.read_html(table.get_attribute('outerHTML'))\n",
    "        frame.append(newTable)\n",
    "        #print(newTable)\n",
    "    "
   ]
  },
  {
   "cell_type": "code",
   "execution_count": 17,
   "metadata": {},
   "outputs": [
    {
     "data": {
      "text/plain": [
       "[        Time Temperature Dew Point Humidity  Wind Wind Speed Wind Gust  \\\n",
       " 0    6:00 PM        75 F      70 F     83 %  CALM      0 mph     0 mph   \n",
       " 1    6:30 PM        75 F      70 F     83 %  CALM      0 mph     0 mph   \n",
       " 2    7:00 PM        75 F      70 F     83 %  CALM      0 mph     0 mph   \n",
       " 3    7:30 PM        73 F      70 F     88 %  CALM      0 mph     0 mph   \n",
       " 4    8:00 PM        73 F      70 F     88 %  CALM      0 mph     0 mph   \n",
       " 5    8:30 PM        73 F      70 F     88 %  CALM      0 mph     0 mph   \n",
       " 6    9:00 PM        73 F      70 F     88 %  CALM      0 mph     0 mph   \n",
       " 7    9:30 PM        73 F      70 F     88 %  CALM      0 mph     0 mph   \n",
       " 8   10:00 PM        72 F      68 F     88 %  CALM      0 mph     0 mph   \n",
       " 9   10:30 PM        72 F      68 F     88 %  CALM      0 mph     0 mph   \n",
       " 10  11:00 PM        72 F      70 F     94 %  CALM      0 mph     0 mph   \n",
       " 11  12:30 AM        72 F      70 F     94 %  CALM      0 mph     0 mph   \n",
       " 12   1:00 AM        72 F      70 F     94 %   ENE      3 mph     0 mph   \n",
       " 13   1:30 AM        72 F      68 F     88 %  CALM      0 mph     0 mph   \n",
       " 14   2:00 AM        73 F      72 F     94 %  CALM      0 mph     0 mph   \n",
       " 15   2:30 AM        72 F      68 F     88 %  CALM      0 mph     0 mph   \n",
       " 16   3:00 AM        73 F      68 F     83 %  CALM      0 mph     0 mph   \n",
       " 17   3:30 AM        73 F      68 F     83 %  CALM      0 mph     0 mph   \n",
       " 18   4:00 AM        77 F      68 F     74 %    NE      2 mph     0 mph   \n",
       " 19   4:30 AM        81 F      68 F     65 %     E      2 mph     0 mph   \n",
       " 20   5:00 AM        82 F      68 F     62 %     E      2 mph     0 mph   \n",
       " 21   5:30 AM        82 F      66 F     58 %   WNW      2 mph     0 mph   \n",
       " 22   6:00 AM        84 F      66 F     55 %   NNW      6 mph     0 mph   \n",
       " 23   5:30 AM        86 F      68 F     55 %   WNW      5 mph     0 mph   \n",
       " 24   6:00 AM        86 F      68 F     55 %   WNW      5 mph     0 mph   \n",
       " 25   6:30 AM        88 F      68 F     52 %   WNW      2 mph     0 mph   \n",
       " 26   7:00 AM        90 F      68 F     49 %   VAR      2 mph     0 mph   \n",
       " 27   7:30 AM        90 F      68 F     49 %   WNW      7 mph     0 mph   \n",
       " 28   8:00 AM        90 F      68 F     49 %   WSW      7 mph     0 mph   \n",
       " 29   8:30 AM        91 F      66 F     43 %   SSW      5 mph     0 mph   \n",
       " 30   9:00 AM        90 F      66 F     46 %     W      7 mph     0 mph   \n",
       " 31   9:30 AM        90 F      66 F     46 %   WSW      7 mph     0 mph   \n",
       " 32  10:00 AM        90 F      64 F     43 %     W      6 mph     0 mph   \n",
       " 33  10:30 AM        90 F      64 F     43 %     W      9 mph     0 mph   \n",
       " 34  11:00 AM        88 F      66 F     49 %   WSW      9 mph     0 mph   \n",
       " 35  11:30 AM        86 F      68 F     55 %   WSW      9 mph     0 mph   \n",
       " 36  12:00 PM        84 F      68 F     58 %   WSW      8 mph     0 mph   \n",
       " 37  12:30 PM        82 F      68 F     62 %   WSW      7 mph     0 mph   \n",
       " 38   1:00 PM        82 F      68 F     62 %   WSW      6 mph     0 mph   \n",
       " 39   1:30 PM        81 F      68 F     65 %   WNW      6 mph     0 mph   \n",
       " 40   2:00 PM        81 F      66 F     61 %  CALM      0 mph     0 mph   \n",
       " 41   2:30 PM        81 F      66 F     61 %  CALM      0 mph     0 mph   \n",
       " 42   3:00 PM        79 F      66 F     65 %  CALM      0 mph     0 mph   \n",
       " 43   3:30 PM        79 F      66 F     65 %  CALM      0 mph     0 mph   \n",
       " 44   4:00 PM        79 F      66 F     65 %  CALM      0 mph     0 mph   \n",
       " 45   4:30 PM        77 F      66 F     69 %  CALM      0 mph     0 mph   \n",
       " 46   5:00 PM        77 F      64 F     65 %  CALM      0 mph     0 mph   \n",
       " 47   5:30 PM        77 F      64 F     65 %  CALM      0 mph     0 mph   \n",
       " \n",
       "    Pressure Precip. Precip Accum Condition  \n",
       " 0   29.8 in  0.0 in       0.0 in       Fog  \n",
       " 1   29.8 in  0.0 in       0.0 in       Fog  \n",
       " 2   29.8 in  0.0 in       0.0 in       Fog  \n",
       " 3   29.8 in  0.0 in       0.0 in       Fog  \n",
       " 4   29.8 in  0.0 in       0.0 in       Fog  \n",
       " 5   29.8 in  0.0 in       0.0 in       Fog  \n",
       " 6   29.8 in  0.0 in       0.0 in       Fog  \n",
       " 7   29.8 in  0.0 in       0.0 in       Fog  \n",
       " 8   29.8 in  0.0 in       0.0 in       Fog  \n",
       " 9   29.8 in  0.0 in       0.0 in       Fog  \n",
       " 10  29.8 in  0.0 in       0.0 in       Fog  \n",
       " 11  29.8 in  0.0 in       0.0 in       Fog  \n",
       " 12  29.8 in  0.0 in       0.0 in       Fog  \n",
       " 13  29.8 in  0.0 in       0.0 in       Fog  \n",
       " 14  29.8 in  0.0 in       0.0 in       Fog  \n",
       " 15  29.8 in  0.0 in       0.0 in       Fog  \n",
       " 16  29.8 in  0.0 in       0.0 in       Fog  \n",
       " 17  29.9 in  0.0 in       0.0 in       Fog  \n",
       " 18  29.9 in  0.0 in       0.0 in      Haze  \n",
       " 19  29.9 in  0.0 in       0.0 in      Haze  \n",
       " 20  29.9 in  0.0 in       0.0 in      Haze  \n",
       " 21  29.9 in  0.0 in       0.0 in      Haze  \n",
       " 22  29.8 in  0.0 in       0.0 in      Haze  \n",
       " 23  29.8 in  0.0 in       0.0 in      Haze  \n",
       " 24  29.8 in  0.0 in       0.0 in      Haze  \n",
       " 25  29.8 in  0.0 in       0.0 in      Haze  \n",
       " 26  29.8 in  0.0 in       0.0 in      Haze  \n",
       " 27  29.7 in  0.0 in       0.0 in      Haze  \n",
       " 28  29.7 in  0.0 in       0.0 in      Haze  \n",
       " 29  29.7 in  0.0 in       0.0 in      Haze  \n",
       " 30  29.7 in  0.0 in       0.0 in      Haze  \n",
       " 31  29.7 in  0.0 in       0.0 in      Haze  \n",
       " 32  29.7 in  0.0 in       0.0 in      Haze  \n",
       " 33  29.7 in  0.0 in       0.0 in      Haze  \n",
       " 34  29.7 in  0.0 in       0.0 in      Haze  \n",
       " 35  29.7 in  0.0 in       0.0 in      Haze  \n",
       " 36  29.7 in  0.0 in       0.0 in      Haze  \n",
       " 37  29.7 in  0.0 in       0.0 in      Haze  \n",
       " 38  29.7 in  0.0 in       0.0 in      Haze  \n",
       " 39  29.8 in  0.0 in       0.0 in      Haze  \n",
       " 40  29.8 in  0.0 in       0.0 in      Haze  \n",
       " 41  29.8 in  0.0 in       0.0 in      Haze  \n",
       " 42  29.8 in  0.0 in       0.0 in      Haze  \n",
       " 43  29.8 in  0.0 in       0.0 in      Haze  \n",
       " 44  29.8 in  0.0 in       0.0 in      Haze  \n",
       " 45  29.8 in  0.0 in       0.0 in      Haze  \n",
       " 46  29.8 in  0.0 in       0.0 in      Haze  \n",
       " 47  29.8 in  0.0 in       0.0 in      Haze  ]"
      ]
     },
     "execution_count": 17,
     "metadata": {},
     "output_type": "execute_result"
    }
   ],
   "source": [
    "frame[0]"
   ]
  },
  {
   "cell_type": "code",
   "execution_count": null,
   "metadata": {},
   "outputs": [],
   "source": []
  }
 ],
 "metadata": {
  "kernelspec": {
   "display_name": "Python 3",
   "language": "python",
   "name": "python3"
  },
  "language_info": {
   "codemirror_mode": {
    "name": "ipython",
    "version": 3
   },
   "file_extension": ".py",
   "mimetype": "text/x-python",
   "name": "python",
   "nbconvert_exporter": "python",
   "pygments_lexer": "ipython3",
   "version": "3.6.5"
  }
 },
 "nbformat": 4,
 "nbformat_minor": 2
}
